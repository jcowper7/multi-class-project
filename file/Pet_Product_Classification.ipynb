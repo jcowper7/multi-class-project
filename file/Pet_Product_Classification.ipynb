{
  "nbformat": 4,
  "nbformat_minor": 0,
  "metadata": {
    "colab": {
      "name": "Pet Product Classification",
      "provenance": [],
      "collapsed_sections": []
    },
    "kernelspec": {
      "name": "python3",
      "display_name": "Python 3"
    },
    "language_info": {
      "name": "python"
    }
  },
  "cells": [
    {
      "cell_type": "code",
      "metadata": {
        "id": "GwQqv4IzWopK",
        "colab": {
          "base_uri": "https://localhost:8080/"
        },
        "outputId": "99c1ede2-008b-4bb3-8610-56ceb045fcea"
      },
      "source": [
        "import tensorflow as tf\n",
        "import tensorflow_datasets as tfds\n",
        "\n",
        "import numpy as np\n",
        "import pandas as pd\n",
        "import matplotlib.pyplot as plt\n",
        "import seaborn as sns\n",
        "\n",
        "from sklearn.preprocessing import LabelEncoder\n",
        "import re\n",
        "from nltk.corpus import stopwords, wordnet\n",
        "import string\n",
        "\n",
        "from nltk.tokenize import word_tokenize\n",
        "from nltk.stem.porter import PorterStemmer\n",
        "from sklearn.feature_extraction.text import TfidfVectorizer\n",
        "\n",
        "import nltk\n",
        "nltk.download('stopwords')\n",
        "nltk.download('wordnet')\n",
        "from nltk.stem import SnowballStemmer\n",
        "\n"
      ],
      "execution_count": null,
      "outputs": [
        {
          "output_type": "stream",
          "name": "stdout",
          "text": [
            "[nltk_data] Downloading package stopwords to /root/nltk_data...\n",
            "[nltk_data]   Package stopwords is already up-to-date!\n",
            "[nltk_data] Downloading package wordnet to /root/nltk_data...\n",
            "[nltk_data]   Package wordnet is already up-to-date!\n"
          ]
        }
      ]
    },
    {
      "cell_type": "code",
      "metadata": {
        "id": "6L1B8OXyXPBq",
        "colab": {
          "base_uri": "https://localhost:8080/"
        },
        "outputId": "59fbb5f5-5d1c-4715-c9ec-6eaaaa125b38"
      },
      "source": [
        "# dataset from github repo\n",
        "url1 = 'https://raw.githubusercontent.com/jcowper7newc/multi-class-project/main/data/train.csv'\n",
        "url2 = 'https://raw.githubusercontent.com/jcowper7newc/multi-class-project/main/data/test.csv'\n",
        "url3 = 'https://raw.githubusercontent.com/jcowper7newc/multi-class-project/main/data/valid.csv'\n",
        "\n",
        "# read in as dataframes from kaggle source\n",
        "train = pd.read_csv(url1)\n",
        "test = pd.read_csv(url2)\n",
        "val = pd.read_csv(url3)\n",
        "\n",
        "print(train.shape)\n",
        "print(test.shape) # test data does not have labels provided\n",
        "print(val.shape)\n",
        "\n",
        "test.info()\n",
        "\n",
        "# concat labelled data\n",
        "df = pd.concat([train,val])\n",
        "pd.set_option('display.max_columns',None)\n",
        "\n",
        "\n"
      ],
      "execution_count": null,
      "outputs": [
        {
          "output_type": "stream",
          "name": "stdout",
          "text": [
            "(52057, 3)\n",
            "(17353, 2)\n",
            "(17353, 3)\n",
            "<class 'pandas.core.frame.DataFrame'>\n",
            "RangeIndex: 17353 entries, 0 to 17352\n",
            "Data columns (total 2 columns):\n",
            " #   Column  Non-Null Count  Dtype \n",
            "---  ------  --------------  ----- \n",
            " 0   id      17353 non-null  int64 \n",
            " 1   text    17353 non-null  object\n",
            "dtypes: int64(1), object(1)\n",
            "memory usage: 271.3+ KB\n"
          ]
        }
      ]
    },
    {
      "cell_type": "code",
      "metadata": {
        "colab": {
          "base_uri": "https://localhost:8080/"
        },
        "id": "3NGPI1q76c0y",
        "outputId": "f9eafdd6-f69e-4a7b-8bfb-3d12f31380e3"
      },
      "source": [
        "# initial data exploration for use in this project\n",
        "df.shape # n 86,763 p = 3 \n",
        "df.info() # p = id, text, label\n",
        "\n"
      ],
      "execution_count": null,
      "outputs": [
        {
          "output_type": "stream",
          "name": "stdout",
          "text": [
            "<class 'pandas.core.frame.DataFrame'>\n",
            "Int64Index: 69410 entries, 0 to 17352\n",
            "Data columns (total 3 columns):\n",
            " #   Column  Non-Null Count  Dtype \n",
            "---  ------  --------------  ----- \n",
            " 0   id      69410 non-null  int64 \n",
            " 1   text    69410 non-null  object\n",
            " 2   label   69410 non-null  object\n",
            "dtypes: int64(1), object(2)\n",
            "memory usage: 2.1+ MB\n"
          ]
        }
      ]
    },
    {
      "cell_type": "markdown",
      "source": [
        "No nulls or NANs within this df. Real data may have issues. At this stage errors would be further investigated. Resulting in either replacement of issues with pseudo/ correct observation or the entire row removed."
      ],
      "metadata": {
        "id": "KN-Lp986TwLM"
      }
    },
    {
      "cell_type": "code",
      "source": [
        "# label distribution\n",
        "print('pet labels are..')\n",
        "print(np.asarray(sum_df.index))\n",
        "\n",
        "# plot counts\n",
        "summary['Frequency'] = pd.DataFrame(df['label'].value_counts())\n",
        "summary['Proportion %'] = round(summary.label / summary.label.sum(),2)*100\n",
        "\n",
        "\n",
        "g = sns.barplot(x=summary.index.values,y='label',palette = 'hls',data=summary)\n",
        "g.set_ylabel('Frequency')\n",
        "g.set_xlabel('Pet Label')\n",
        "g.set_title('Label Distribution')\n",
        "plt.xticks(rotation=45)\n",
        "\n",
        "summary.drop(['label','proportion %'],axis=1)\n"
      ],
      "metadata": {
        "colab": {
          "base_uri": "https://localhost:8080/",
          "height": 638
        },
        "id": "Dj7U8ikuURQc",
        "outputId": "f4c5d00a-bf2d-484c-f22a-0cfddb6c8d39"
      },
      "execution_count": null,
      "outputs": [
        {
          "output_type": "stream",
          "name": "stdout",
          "text": [
            "pet labels are..\n",
            "['dogs' 'cats' 'fish aquatic pets' 'birds' 'bunny rabbit central'\n",
            " 'small animals']\n"
          ]
        },
        {
          "output_type": "execute_result",
          "data": {
            "text/html": [
              "<div>\n",
              "<style scoped>\n",
              "    .dataframe tbody tr th:only-of-type {\n",
              "        vertical-align: middle;\n",
              "    }\n",
              "\n",
              "    .dataframe tbody tr th {\n",
              "        vertical-align: top;\n",
              "    }\n",
              "\n",
              "    .dataframe thead th {\n",
              "        text-align: right;\n",
              "    }\n",
              "</style>\n",
              "<table border=\"1\" class=\"dataframe\">\n",
              "  <thead>\n",
              "    <tr style=\"text-align: right;\">\n",
              "      <th></th>\n",
              "      <th>Frequency</th>\n",
              "      <th>Proportion %</th>\n",
              "    </tr>\n",
              "  </thead>\n",
              "  <tbody>\n",
              "    <tr>\n",
              "      <th>dogs</th>\n",
              "      <td>37333</td>\n",
              "      <td>54.0</td>\n",
              "    </tr>\n",
              "    <tr>\n",
              "      <th>cats</th>\n",
              "      <td>24661</td>\n",
              "      <td>36.0</td>\n",
              "    </tr>\n",
              "    <tr>\n",
              "      <th>fish aquatic pets</th>\n",
              "      <td>4789</td>\n",
              "      <td>7.0</td>\n",
              "    </tr>\n",
              "    <tr>\n",
              "      <th>birds</th>\n",
              "      <td>1411</td>\n",
              "      <td>2.0</td>\n",
              "    </tr>\n",
              "    <tr>\n",
              "      <th>bunny rabbit central</th>\n",
              "      <td>760</td>\n",
              "      <td>1.0</td>\n",
              "    </tr>\n",
              "    <tr>\n",
              "      <th>small animals</th>\n",
              "      <td>456</td>\n",
              "      <td>1.0</td>\n",
              "    </tr>\n",
              "  </tbody>\n",
              "</table>\n",
              "</div>"
            ],
            "text/plain": [
              "                      Frequency  Proportion %\n",
              "dogs                      37333          54.0\n",
              "cats                      24661          36.0\n",
              "fish aquatic pets          4789           7.0\n",
              "birds                      1411           2.0\n",
              "bunny rabbit central        760           1.0\n",
              "small animals               456           1.0"
            ]
          },
          "metadata": {},
          "execution_count": 359
        },
        {
          "output_type": "display_data",
          "data": {
            "image/png": "[encoded data removed]",
            "text/plain": [
              "<Figure size 432x288 with 1 Axes>"
            ]
          },
          "metadata": {
            "needs_background": "light"
          }
        }
      ]
    },
    {
      "cell_type": "markdown",
      "source": [
        "We can see that label distribution is clearly imbalanced. 90% of all data is compiled of cat and dog labels. This could impact model classification later in analysis. Use original splits (as is) and also resample - oversampling minority classes to produce even splits -> compare results.\n",
        "\n",
        "When creating validation set, important to stratify splits"
      ],
      "metadata": {
        "id": "PQSy0unuhNzu"
      }
    },
    {
      "cell_type": "code",
      "source": [
        "df.head()\n",
        "\n",
        "# create a partition to reduce data size whilst developing\n",
        "df = df.sample(frac=1,replace=False,random_state=10)"
      ],
      "metadata": {
        "id": "uLCvt0DS093J"
      },
      "execution_count": null,
      "outputs": []
    },
    {
      "cell_type": "code",
      "source": [
        "# pre-processing review text\n",
        "df = df.rename(columns={'text':'review'})\n",
        "\n",
        "#df['clean_review'] = df['review'].str.lower()\n",
        "#df['clean_review'] = df['clean_review'].str.replace('[^\\w\\s]','')\n",
        "#df['clean_review'] = df['clean_review'].apply(lambda x: re.sub('[^A-Za-z]',' ',x)) # 2 options\n",
        "\n",
        "stemmer = SnowballStemmer('english')\n",
        "\n",
        "def process_text(text):\n",
        "# lowercase\n",
        "    text = text.lower()\n",
        "# special characters\n",
        "    text = text.replace('[^\\w\\s]','')\n",
        "# tokenise/ punctuation\n",
        "    text = [word.strip(string.punctuation) for word in text.split(\" \")]\n",
        "    text = [word for word in text if not any(c.isdigit() for c in word)]\n",
        "# stopwords\n",
        "    global stop\n",
        "    stop = stopwords.words('english')\n",
        "    #stop.extend(['add future words if irrelvant to this data'])\n",
        "    text = [word for word in text if word not in stop]\n",
        "# word stemming\n",
        "    text = [stemmer.stem(word) for word in text]\n",
        "# remove single letter words\n",
        "    text = [word for word in text if len(word)>1]\n",
        "# join back into review\n",
        "    text = \" \".join(text)\n",
        "    return (text)\n",
        "\n",
        "df['clean_review'] = df['review'].apply(lambda x: process_text(x))\n",
        "\n",
        "\n",
        "\n",
        "\n",
        "print('Using '+ str(len(stop)) + ' stopwords\\n\\n')\n",
        "\n",
        "df.head(5)\n"
      ],
      "metadata": {
        "colab": {
          "base_uri": "https://localhost:8080/",
          "height": 258
        },
        "id": "3x4STz8CjRGn",
        "outputId": "a18d6585-239c-491e-86fd-0491c7a232fd"
      },
      "execution_count": null,
      "outputs": [
        {
          "output_type": "stream",
          "name": "stdout",
          "text": [
            "Using 179 stopwords\n",
            "\n",
            "\n"
          ]
        },
        {
          "output_type": "execute_result",
          "data": {
            "text/html": [
              "<div>\n",
              "<style scoped>\n",
              "    .dataframe tbody tr th:only-of-type {\n",
              "        vertical-align: middle;\n",
              "    }\n",
              "\n",
              "    .dataframe tbody tr th {\n",
              "        vertical-align: top;\n",
              "    }\n",
              "\n",
              "    .dataframe thead th {\n",
              "        text-align: right;\n",
              "    }\n",
              "</style>\n",
              "<table border=\"1\" class=\"dataframe\">\n",
              "  <thead>\n",
              "    <tr style=\"text-align: right;\">\n",
              "      <th></th>\n",
              "      <th>id</th>\n",
              "      <th>review</th>\n",
              "      <th>label</th>\n",
              "      <th>clean_review</th>\n",
              "    </tr>\n",
              "  </thead>\n",
              "  <tbody>\n",
              "    <tr>\n",
              "      <th>38953</th>\n",
              "      <td>38953</td>\n",
              "      <td>My 4 Siamese and 1 oriental all love the cat d...</td>\n",
              "      <td>cats</td>\n",
              "      <td>siames orient love cat dancer hide go bed can'...</td>\n",
              "    </tr>\n",
              "    <tr>\n",
              "      <th>38887</th>\n",
              "      <td>38887</td>\n",
              "      <td>My 10 pound Cavalier/Bichon mix, Bailey LOVES ...</td>\n",
              "      <td>dogs</td>\n",
              "      <td>pound cavalier/bichon mix bailey love new boos...</td>\n",
              "    </tr>\n",
              "    <tr>\n",
              "      <th>12821</th>\n",
              "      <td>12821</td>\n",
              "      <td>This is much cheaper than a lot of the pet foo...</td>\n",
              "      <td>dogs</td>\n",
              "      <td>much cheaper lot pet food storag market work w...</td>\n",
              "    </tr>\n",
              "    <tr>\n",
              "      <th>49573</th>\n",
              "      <td>49573</td>\n",
              "      <td>I can't argue that this doesn't work; it does....</td>\n",
              "      <td>dogs</td>\n",
              "      <td>can't argu work expect qualiti product mat mad...</td>\n",
              "    </tr>\n",
              "    <tr>\n",
              "      <th>28291</th>\n",
              "      <td>28291</td>\n",
              "      <td>I purchased this crate for my large yellow lab...</td>\n",
              "      <td>dogs</td>\n",
              "      <td>purchas crate larg yellow lab troubl get hous ...</td>\n",
              "    </tr>\n",
              "  </tbody>\n",
              "</table>\n",
              "</div>"
            ],
            "text/plain": [
              "          id                                             review label  \\\n",
              "38953  38953  My 4 Siamese and 1 oriental all love the cat d...  cats   \n",
              "38887  38887  My 10 pound Cavalier/Bichon mix, Bailey LOVES ...  dogs   \n",
              "12821  12821  This is much cheaper than a lot of the pet foo...  dogs   \n",
              "49573  49573  I can't argue that this doesn't work; it does....  dogs   \n",
              "28291  28291  I purchased this crate for my large yellow lab...  dogs   \n",
              "\n",
              "                                            clean_review  \n",
              "38953  siames orient love cat dancer hide go bed can'...  \n",
              "38887  pound cavalier/bichon mix bailey love new boos...  \n",
              "12821  much cheaper lot pet food storag market work w...  \n",
              "49573  can't argu work expect qualiti product mat mad...  \n",
              "28291  purchas crate larg yellow lab troubl get hous ...  "
            ]
          },
          "metadata": {},
          "execution_count": 361
        }
      ]
    },
    {
      "cell_type": "markdown",
      "source": [
        "Compare how processing has changed length of reviews"
      ],
      "metadata": {
        "id": "ETRUclJwAnDc"
      }
    },
    {
      "cell_type": "code",
      "source": [
        "df['orig_review'] = pd.DataFrame(df['review'].apply(lambda x: len(x.split(' '))).astype(int))\n",
        "df['proc_review'] = pd.DataFrame(df['clean_review'].apply(lambda x: len(x.split(' '))).astype(int))\n",
        "df.head(2)\n",
        "\n",
        "\n",
        "\n",
        "\n"
      ],
      "metadata": {
        "colab": {
          "base_uri": "https://localhost:8080/",
          "height": 112
        },
        "id": "Yr2OfDNtAsE-",
        "outputId": "2c80431b-a8d0-41c0-af54-c460e301b68d"
      },
      "execution_count": null,
      "outputs": [
        {
          "output_type": "execute_result",
          "data": {
            "text/html": [
              "<div>\n",
              "<style scoped>\n",
              "    .dataframe tbody tr th:only-of-type {\n",
              "        vertical-align: middle;\n",
              "    }\n",
              "\n",
              "    .dataframe tbody tr th {\n",
              "        vertical-align: top;\n",
              "    }\n",
              "\n",
              "    .dataframe thead th {\n",
              "        text-align: right;\n",
              "    }\n",
              "</style>\n",
              "<table border=\"1\" class=\"dataframe\">\n",
              "  <thead>\n",
              "    <tr style=\"text-align: right;\">\n",
              "      <th></th>\n",
              "      <th>id</th>\n",
              "      <th>review</th>\n",
              "      <th>label</th>\n",
              "      <th>clean_review</th>\n",
              "      <th>orig_review</th>\n",
              "      <th>proc_review</th>\n",
              "    </tr>\n",
              "  </thead>\n",
              "  <tbody>\n",
              "    <tr>\n",
              "      <th>38953</th>\n",
              "      <td>38953</td>\n",
              "      <td>My 4 Siamese and 1 oriental all love the cat d...</td>\n",
              "      <td>cats</td>\n",
              "      <td>siames orient love cat dancer hide go bed can'...</td>\n",
              "      <td>78</td>\n",
              "      <td>33</td>\n",
              "    </tr>\n",
              "    <tr>\n",
              "      <th>38887</th>\n",
              "      <td>38887</td>\n",
              "      <td>My 10 pound Cavalier/Bichon mix, Bailey LOVES ...</td>\n",
              "      <td>dogs</td>\n",
              "      <td>pound cavalier/bichon mix bailey love new boos...</td>\n",
              "      <td>101</td>\n",
              "      <td>50</td>\n",
              "    </tr>\n",
              "  </tbody>\n",
              "</table>\n",
              "</div>"
            ],
            "text/plain": [
              "          id                                             review label  \\\n",
              "38953  38953  My 4 Siamese and 1 oriental all love the cat d...  cats   \n",
              "38887  38887  My 10 pound Cavalier/Bichon mix, Bailey LOVES ...  dogs   \n",
              "\n",
              "                                            clean_review  orig_review  \\\n",
              "38953  siames orient love cat dancer hide go bed can'...           78   \n",
              "38887  pound cavalier/bichon mix bailey love new boos...          101   \n",
              "\n",
              "       proc_review  \n",
              "38953           33  \n",
              "38887           50  "
            ]
          },
          "metadata": {},
          "execution_count": 362
        }
      ]
    },
    {
      "cell_type": "code",
      "source": [
        "print('avg original review words: '+str(df['orig_review'].mean()))\n",
        "print('avg processed review words: '+str(df['proc_review'].mean()))\n",
        "\n",
        "\n",
        "\n",
        "fig = plt.figure(figsize=(15,5))\n",
        "\n",
        "g = sns.histplot(df['orig_review'],binwidth=5,color='purple',alpha=0.7)\n",
        "g = sns.histplot(df['proc_review'],binwidth=5,alpha=0.5,color='darkorange')\n",
        "fig.legend(labels=['original','processed'])\n",
        "g.set_xlabel('Review Length')\n",
        "g.set_ylabel('Frequency')\n",
        "g.set_title('Review Length Before and After Processing')\n",
        "plt.xlim(0,600)\n",
        "plt.show()\n"
      ],
      "metadata": {
        "colab": {
          "base_uri": "https://localhost:8080/",
          "height": 407
        },
        "id": "SOMOxPnJCWfn",
        "outputId": "af018538-8780-40b2-9845-f8309fe08305"
      },
      "execution_count": null,
      "outputs": [
        {
          "output_type": "stream",
          "name": "stdout",
          "text": [
            "avg original review words: 84.69851606396773\n",
            "avg processed review words: 40.29312779138453\n"
          ]
        },
        {
          "output_type": "display_data",
          "data": {
            "image/png": "[encoded data removed]",
            "text/plain": [
              "<Figure size 1080x360 with 1 Axes>"
            ]
          },
          "metadata": {
            "needs_background": "light"
          }
        }
      ]
    },
    {
      "cell_type": "code",
      "source": [
        "fig, ax =plt.subplots(1,2,figsize=(15,5))\n",
        "sns.boxplot(y='orig_review',data=df,ax=ax[0],color='purple',)\n",
        "sns.boxplot(y='proc_review',data=df,ax=ax[1],color='orange')\n",
        "ax[0].set_ylim(0,250) \n",
        "ax[1].set_ylim(0,250) \n",
        "ax[1].set_title('Processed')\n",
        "ax[0].set_title('Original')\n",
        "ax[0].set_ylabel('Distribution')\n",
        "ax[1].set_ylabel('')\n",
        "\n",
        "\n",
        "\n"
      ],
      "metadata": {
        "colab": {
          "base_uri": "https://localhost:8080/",
          "height": 342
        },
        "id": "mZ53rmvJMi_E",
        "outputId": "10db8f6e-be0b-4a5f-a57b-7b2a6c004557"
      },
      "execution_count": null,
      "outputs": [
        {
          "output_type": "execute_result",
          "data": {
            "text/plain": [
              "Text(0, 0.5, '')"
            ]
          },
          "metadata": {},
          "execution_count": 463
        },
        {
          "output_type": "display_data",
          "data": {
            "image/png": "[encoded data removed]",
            "text/plain": [
              "<Figure size 1080x360 with 2 Axes>"
            ]
          },
          "metadata": {
            "needs_background": "light"
          }
        }
      ]
    }
  ]
}